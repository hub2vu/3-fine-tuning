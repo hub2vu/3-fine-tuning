{
 "cells": [
  {
   "cell_type": "code",
   "execution_count": null,
   "metadata": {
    "id": "B99co7ZEUtWZ"
   },
   "outputs": [],
   "source": [
    "from google.colab import drive\n",
    "drive.mount('/content/drive')"
   ]
  },
  {
   "cell_type": "code",
   "execution_count": null,
   "metadata": {
    "id": "RUuGL0qjVL7h"
   },
   "outputs": [],
   "source": [
    "cd '/content/drive/MyDrive/git'"
   ]
  },
  {
   "cell_type": "code",
   "execution_count": null,
   "metadata": {
    "id": "lqfW7-lHVO-T"
   },
   "outputs": [],
   "source": [
    "!git config --global user.email \"github메일@gmail.com\"\n",
    "!git config --global user.name \"github계정\""
   ]
  },
  {
   "cell_type": "code",
   "execution_count": null,
   "metadata": {
    "id": "C40fOupOVr7s"
   },
   "outputs": [],
   "source": [
    "!git config --global --list"
   ]
  },
  {
   "cell_type": "code",
   "execution_count": null,
   "metadata": {
    "id": "So-8MZ3XV7Sz"
   },
   "outputs": [],
   "source": [
    "!git remote add origin https://[토큰값]@github.com/[github계정]/[Repository이름].git"
   ]
  },
  {
   "cell_type": "code",
   "execution_count": null,
   "metadata": {
    "id": "JEo8o89KWSpK"
   },
   "outputs": [],
   "source": [
    "cd \"2-fine-tuning\""
   ]
  },
  {
   "cell_type": "code",
   "execution_count": null,
   "metadata": {
    "id": "t_3jZPFJWKod"
   },
   "outputs": [],
   "source": [
    "!git checkout -b [본인브랜치명]"
   ]
  },
  {
   "cell_type": "code",
   "execution_count": null,
   "metadata": {
    "id": "qPmiwyyvWgEX"
   },
   "outputs": [],
   "source": [
    "!git add ."
   ]
  }
 ],
 "metadata": {
  "colab": {
   "authorship_tag": "ABX9TyNq/MmDDkAMteyk5yFy/clE",
   "private_outputs": true,
   "provenance": []
  },
  "kernelspec": {
   "display_name": "Python 3",
   "name": "python3"
  },
  "language_info": {
   "name": "python"
  }
 },
 "nbformat": 4,
 "nbformat_minor": 0
}
